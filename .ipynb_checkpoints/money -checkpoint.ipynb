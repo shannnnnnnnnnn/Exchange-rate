{
 "cells": [
  {
   "cell_type": "code",
   "execution_count": 179,
   "id": "601a89d4",
   "metadata": {},
   "outputs": [],
   "source": [
    "import spotipy\n",
    "import json\n",
    "import webbrowser"
   ]
  },
  {
   "cell_type": "code",
   "execution_count": 180,
   "id": "ecd639ab",
   "metadata": {},
   "outputs": [],
   "source": [
    "import urllib.request\n",
    "import spotipy.util as util"
   ]
  },
  {
   "cell_type": "code",
   "execution_count": 181,
   "id": "24a65d01",
   "metadata": {},
   "outputs": [],
   "source": [
    "request = urllib.request.Request(\"https://api.coindesk.com/v1/bpi/currentprice.json\")\n",
    "response = urllib.request.urlopen(request)"
   ]
  },
  {
   "cell_type": "code",
   "execution_count": 182,
   "id": "35656288",
   "metadata": {},
   "outputs": [],
   "source": [
    "coin = json.loads(response.read())"
   ]
  },
  {
   "cell_type": "code",
   "execution_count": 183,
   "id": "82a43fa2",
   "metadata": {},
   "outputs": [
    {
     "data": {
      "text/plain": [
       "{'time': {'updated': 'Nov 30, 2022 10:19:00 UTC',\n",
       "  'updatedISO': '2022-11-30T10:19:00+00:00',\n",
       "  'updateduk': 'Nov 30, 2022 at 10:19 GMT'},\n",
       " 'disclaimer': 'This data was produced from the CoinDesk Bitcoin Price Index (USD). Non-USD currency data converted using hourly conversion rate from openexchangerates.org',\n",
       " 'chartName': 'Bitcoin',\n",
       " 'bpi': {'USD': {'code': 'USD',\n",
       "   'symbol': '&#36;',\n",
       "   'rate': '16,890.2563',\n",
       "   'description': 'United States Dollar',\n",
       "   'rate_float': 16890.2563},\n",
       "  'GBP': {'code': 'GBP',\n",
       "   'symbol': '&pound;',\n",
       "   'rate': '14,113.3631',\n",
       "   'description': 'British Pound Sterling',\n",
       "   'rate_float': 14113.3631},\n",
       "  'EUR': {'code': 'EUR',\n",
       "   'symbol': '&euro;',\n",
       "   'rate': '16,453.5756',\n",
       "   'description': 'Euro',\n",
       "   'rate_float': 16453.5756}}}"
      ]
     },
     "execution_count": 183,
     "metadata": {},
     "output_type": "execute_result"
    }
   ],
   "source": [
    "coin"
   ]
  },
  {
   "cell_type": "code",
   "execution_count": 184,
   "id": "8231b026",
   "metadata": {},
   "outputs": [
    {
     "data": {
      "text/plain": [
       "dict"
      ]
     },
     "execution_count": 184,
     "metadata": {},
     "output_type": "execute_result"
    }
   ],
   "source": [
    "type(coin)"
   ]
  },
  {
   "cell_type": "code",
   "execution_count": 185,
   "id": "5f17eceb",
   "metadata": {},
   "outputs": [],
   "source": [
    "rate = coin['bpi'][\"GBP\"][\"rate\"]"
   ]
  },
  {
   "cell_type": "code",
   "execution_count": 186,
   "id": "6d870ecc",
   "metadata": {},
   "outputs": [
    {
     "name": "stdout",
     "output_type": "stream",
     "text": [
      "['14,113', '3631']\n"
     ]
    },
    {
     "data": {
      "text/plain": [
       "'14,113'"
      ]
     },
     "execution_count": 186,
     "metadata": {},
     "output_type": "execute_result"
    }
   ],
   "source": [
    "print(rate.split(\".\"))\n",
    "\n",
    "shortRate = rate.split(\".\")[0]\n",
    "\n",
    "shortRate"
   ]
  },
  {
   "cell_type": "code",
   "execution_count": 187,
   "id": "6bc38b94",
   "metadata": {},
   "outputs": [],
   "source": [
    "credentials = \"Spotify_spokey.json\"\n",
    "with open(credentials, \"r\") as keys:\n",
    "    api_tokens = json.load(keys)"
   ]
  },
  {
   "cell_type": "code",
   "execution_count": 188,
   "id": "5a90aa73",
   "metadata": {},
   "outputs": [],
   "source": [
    "client_id = api_tokens[\"client_id\"]\n",
    "client_secret = api_tokens[\"client_secret\"]\n",
    "redirectURI = api_tokens[\"redirect\"]\n",
    "username = api_tokens[\"username\"]"
   ]
  },
  {
   "cell_type": "code",
   "execution_count": 189,
   "id": "141b13f0",
   "metadata": {},
   "outputs": [],
   "source": [
    "scope = 'user-read-private user-read-playback-state user-modify-playback-state playlist-modify-public'\n",
    "token = util.prompt_for_user_token(username, scope, client_id=client_id,\n",
    "                           client_secret=client_secret,\n",
    "                           redirect_uri=redirectURI)"
   ]
  },
  {
   "cell_type": "code",
   "execution_count": 190,
   "id": "799e648b",
   "metadata": {},
   "outputs": [],
   "source": [
    "sp = spotipy.Spotify(auth=token)"
   ]
  },
  {
   "cell_type": "code",
   "execution_count": 191,
   "id": "89fa9f42",
   "metadata": {},
   "outputs": [],
   "source": [
    "# learn about more query strings for spotify here: https://developer.spotify.com/documentation/web-api/reference/#/operations/search\n",
    "track_results = sp.search(q=shortRate, type='track', limit=50)"
   ]
  },
  {
   "cell_type": "code",
   "execution_count": 192,
   "id": "81bd7a1b",
   "metadata": {},
   "outputs": [],
   "source": [
    "tracks = track_results['tracks']['items']"
   ]
  },
  {
   "cell_type": "code",
   "execution_count": 193,
   "id": "bb0c24d1",
   "metadata": {},
   "outputs": [
    {
     "data": {
      "text/plain": [
       "{'album': {'album_type': 'album',\n",
       "  'artists': [{'external_urls': {'spotify': 'https://open.spotify.com/artist/3wf3rODFbV76eJUvzklwTe'},\n",
       "    'href': 'https://api.spotify.com/v1/artists/3wf3rODFbV76eJUvzklwTe',\n",
       "    'id': '3wf3rODFbV76eJUvzklwTe',\n",
       "    'name': 'Darren Checkley',\n",
       "    'type': 'artist',\n",
       "    'uri': 'spotify:artist:3wf3rODFbV76eJUvzklwTe'}],\n",
       "  'available_markets': ['AD',\n",
       "   'AE',\n",
       "   'AG',\n",
       "   'AL',\n",
       "   'AM',\n",
       "   'AO',\n",
       "   'AR',\n",
       "   'AT',\n",
       "   'AU',\n",
       "   'AZ',\n",
       "   'BA',\n",
       "   'BB',\n",
       "   'BD',\n",
       "   'BE',\n",
       "   'BF',\n",
       "   'BG',\n",
       "   'BH',\n",
       "   'BJ',\n",
       "   'BN',\n",
       "   'BO',\n",
       "   'BR',\n",
       "   'BS',\n",
       "   'BT',\n",
       "   'BW',\n",
       "   'BZ',\n",
       "   'CA',\n",
       "   'CG',\n",
       "   'CH',\n",
       "   'CL',\n",
       "   'CM',\n",
       "   'CO',\n",
       "   'CR',\n",
       "   'CV',\n",
       "   'CW',\n",
       "   'CY',\n",
       "   'CZ',\n",
       "   'DE',\n",
       "   'DJ',\n",
       "   'DK',\n",
       "   'DM',\n",
       "   'DO',\n",
       "   'DZ',\n",
       "   'EC',\n",
       "   'EE',\n",
       "   'EG',\n",
       "   'ES',\n",
       "   'FI',\n",
       "   'FJ',\n",
       "   'FM',\n",
       "   'FR',\n",
       "   'GA',\n",
       "   'GB',\n",
       "   'GD',\n",
       "   'GE',\n",
       "   'GH',\n",
       "   'GM',\n",
       "   'GN',\n",
       "   'GQ',\n",
       "   'GR',\n",
       "   'GT',\n",
       "   'GW',\n",
       "   'GY',\n",
       "   'HK',\n",
       "   'HN',\n",
       "   'HR',\n",
       "   'HT',\n",
       "   'HU',\n",
       "   'ID',\n",
       "   'IE',\n",
       "   'IL',\n",
       "   'IN',\n",
       "   'IS',\n",
       "   'IT',\n",
       "   'JM',\n",
       "   'JO',\n",
       "   'JP',\n",
       "   'KE',\n",
       "   'KG',\n",
       "   'KH',\n",
       "   'KI',\n",
       "   'KM',\n",
       "   'KN',\n",
       "   'KR',\n",
       "   'KW',\n",
       "   'KZ',\n",
       "   'LA',\n",
       "   'LB',\n",
       "   'LC',\n",
       "   'LI',\n",
       "   'LK',\n",
       "   'LR',\n",
       "   'LS',\n",
       "   'LT',\n",
       "   'LU',\n",
       "   'LV',\n",
       "   'MA',\n",
       "   'MC',\n",
       "   'MD',\n",
       "   'ME',\n",
       "   'MG',\n",
       "   'MH',\n",
       "   'MK',\n",
       "   'ML',\n",
       "   'MN',\n",
       "   'MO',\n",
       "   'MR',\n",
       "   'MT',\n",
       "   'MU',\n",
       "   'MV',\n",
       "   'MW',\n",
       "   'MX',\n",
       "   'MY',\n",
       "   'MZ',\n",
       "   'NA',\n",
       "   'NE',\n",
       "   'NG',\n",
       "   'NI',\n",
       "   'NL',\n",
       "   'NO',\n",
       "   'NP',\n",
       "   'NR',\n",
       "   'NZ',\n",
       "   'OM',\n",
       "   'PA',\n",
       "   'PE',\n",
       "   'PG',\n",
       "   'PH',\n",
       "   'PK',\n",
       "   'PL',\n",
       "   'PS',\n",
       "   'PT',\n",
       "   'PW',\n",
       "   'PY',\n",
       "   'QA',\n",
       "   'RO',\n",
       "   'RW',\n",
       "   'SA',\n",
       "   'SB',\n",
       "   'SC',\n",
       "   'SE',\n",
       "   'SG',\n",
       "   'SI',\n",
       "   'SK',\n",
       "   'SL',\n",
       "   'SM',\n",
       "   'SN',\n",
       "   'SR',\n",
       "   'ST',\n",
       "   'SV',\n",
       "   'SZ',\n",
       "   'TD',\n",
       "   'TG',\n",
       "   'TH',\n",
       "   'TJ',\n",
       "   'TL',\n",
       "   'TN',\n",
       "   'TO',\n",
       "   'TR',\n",
       "   'TT',\n",
       "   'TV',\n",
       "   'TW',\n",
       "   'TZ',\n",
       "   'UA',\n",
       "   'UG',\n",
       "   'US',\n",
       "   'UY',\n",
       "   'UZ',\n",
       "   'VC',\n",
       "   'VE',\n",
       "   'VN',\n",
       "   'VU',\n",
       "   'WS',\n",
       "   'ZA',\n",
       "   'ZM'],\n",
       "  'external_urls': {'spotify': 'https://open.spotify.com/album/7cVoMyy31D811LUveQjEFk'},\n",
       "  'href': 'https://api.spotify.com/v1/albums/7cVoMyy31D811LUveQjEFk',\n",
       "  'id': '7cVoMyy31D811LUveQjEFk',\n",
       "  'images': [{'height': 640,\n",
       "    'url': 'https://i.scdn.co/image/ab67616d0000b2739a8b6fadd7151e12b5975ffb',\n",
       "    'width': 640},\n",
       "   {'height': 300,\n",
       "    'url': 'https://i.scdn.co/image/ab67616d00001e029a8b6fadd7151e12b5975ffb',\n",
       "    'width': 300},\n",
       "   {'height': 64,\n",
       "    'url': 'https://i.scdn.co/image/ab67616d000048519a8b6fadd7151e12b5975ffb',\n",
       "    'width': 64}],\n",
       "  'name': '#Keepitreel: Just Reels',\n",
       "  'release_date': '2018-06-18',\n",
       "  'release_date_precision': 'day',\n",
       "  'total_tracks': 24,\n",
       "  'type': 'album',\n",
       "  'uri': 'spotify:album:7cVoMyy31D811LUveQjEFk'},\n",
       " 'artists': [{'external_urls': {'spotify': 'https://open.spotify.com/artist/3wf3rODFbV76eJUvzklwTe'},\n",
       "   'href': 'https://api.spotify.com/v1/artists/3wf3rODFbV76eJUvzklwTe',\n",
       "   'id': '3wf3rODFbV76eJUvzklwTe',\n",
       "   'name': 'Darren Checkley',\n",
       "   'type': 'artist',\n",
       "   'uri': 'spotify:artist:3wf3rODFbV76eJUvzklwTe'}],\n",
       " 'available_markets': ['AD',\n",
       "  'AE',\n",
       "  'AG',\n",
       "  'AL',\n",
       "  'AM',\n",
       "  'AO',\n",
       "  'AR',\n",
       "  'AT',\n",
       "  'AU',\n",
       "  'AZ',\n",
       "  'BA',\n",
       "  'BB',\n",
       "  'BD',\n",
       "  'BE',\n",
       "  'BF',\n",
       "  'BG',\n",
       "  'BH',\n",
       "  'BJ',\n",
       "  'BN',\n",
       "  'BO',\n",
       "  'BR',\n",
       "  'BS',\n",
       "  'BT',\n",
       "  'BW',\n",
       "  'BZ',\n",
       "  'CA',\n",
       "  'CG',\n",
       "  'CH',\n",
       "  'CL',\n",
       "  'CM',\n",
       "  'CO',\n",
       "  'CR',\n",
       "  'CV',\n",
       "  'CW',\n",
       "  'CY',\n",
       "  'CZ',\n",
       "  'DE',\n",
       "  'DJ',\n",
       "  'DK',\n",
       "  'DM',\n",
       "  'DO',\n",
       "  'DZ',\n",
       "  'EC',\n",
       "  'EE',\n",
       "  'EG',\n",
       "  'ES',\n",
       "  'FI',\n",
       "  'FJ',\n",
       "  'FM',\n",
       "  'FR',\n",
       "  'GA',\n",
       "  'GB',\n",
       "  'GD',\n",
       "  'GE',\n",
       "  'GH',\n",
       "  'GM',\n",
       "  'GN',\n",
       "  'GQ',\n",
       "  'GR',\n",
       "  'GT',\n",
       "  'GW',\n",
       "  'GY',\n",
       "  'HK',\n",
       "  'HN',\n",
       "  'HR',\n",
       "  'HT',\n",
       "  'HU',\n",
       "  'ID',\n",
       "  'IE',\n",
       "  'IL',\n",
       "  'IN',\n",
       "  'IS',\n",
       "  'IT',\n",
       "  'JM',\n",
       "  'JO',\n",
       "  'JP',\n",
       "  'KE',\n",
       "  'KG',\n",
       "  'KH',\n",
       "  'KI',\n",
       "  'KM',\n",
       "  'KN',\n",
       "  'KR',\n",
       "  'KW',\n",
       "  'KZ',\n",
       "  'LA',\n",
       "  'LB',\n",
       "  'LC',\n",
       "  'LI',\n",
       "  'LK',\n",
       "  'LR',\n",
       "  'LS',\n",
       "  'LT',\n",
       "  'LU',\n",
       "  'LV',\n",
       "  'MA',\n",
       "  'MC',\n",
       "  'MD',\n",
       "  'ME',\n",
       "  'MG',\n",
       "  'MH',\n",
       "  'MK',\n",
       "  'ML',\n",
       "  'MN',\n",
       "  'MO',\n",
       "  'MR',\n",
       "  'MT',\n",
       "  'MU',\n",
       "  'MV',\n",
       "  'MW',\n",
       "  'MX',\n",
       "  'MY',\n",
       "  'MZ',\n",
       "  'NA',\n",
       "  'NE',\n",
       "  'NG',\n",
       "  'NI',\n",
       "  'NL',\n",
       "  'NO',\n",
       "  'NP',\n",
       "  'NR',\n",
       "  'NZ',\n",
       "  'OM',\n",
       "  'PA',\n",
       "  'PE',\n",
       "  'PG',\n",
       "  'PH',\n",
       "  'PK',\n",
       "  'PL',\n",
       "  'PS',\n",
       "  'PT',\n",
       "  'PW',\n",
       "  'PY',\n",
       "  'QA',\n",
       "  'RO',\n",
       "  'RW',\n",
       "  'SA',\n",
       "  'SB',\n",
       "  'SC',\n",
       "  'SE',\n",
       "  'SG',\n",
       "  'SI',\n",
       "  'SK',\n",
       "  'SL',\n",
       "  'SM',\n",
       "  'SN',\n",
       "  'SR',\n",
       "  'ST',\n",
       "  'SV',\n",
       "  'SZ',\n",
       "  'TD',\n",
       "  'TG',\n",
       "  'TH',\n",
       "  'TJ',\n",
       "  'TL',\n",
       "  'TN',\n",
       "  'TO',\n",
       "  'TR',\n",
       "  'TT',\n",
       "  'TV',\n",
       "  'TW',\n",
       "  'TZ',\n",
       "  'UA',\n",
       "  'UG',\n",
       "  'US',\n",
       "  'UY',\n",
       "  'UZ',\n",
       "  'VC',\n",
       "  'VE',\n",
       "  'VN',\n",
       "  'VU',\n",
       "  'WS',\n",
       "  'ZA',\n",
       "  'ZM'],\n",
       " 'disc_number': 1,\n",
       " 'duration_ms': 63280,\n",
       " 'explicit': False,\n",
       " 'external_ids': {'isrc': 'TCADR1861926'},\n",
       " 'external_urls': {'spotify': 'https://open.spotify.com/track/0gvReE84ESnWAaUWQvJGYL'},\n",
       " 'href': 'https://api.spotify.com/v1/tracks/0gvReE84ESnWAaUWQvJGYL',\n",
       " 'id': '0gvReE84ESnWAaUWQvJGYL',\n",
       " 'is_local': False,\n",
       " 'name': 'Reel 113, Pt. 14',\n",
       " 'popularity': 6,\n",
       " 'preview_url': 'https://p.scdn.co/mp3-preview/cec76f452c5fcdafdd105f23404695235516d163?cid=daf24e0cc7e44a3fbab8783acb54a20a',\n",
       " 'track_number': 14,\n",
       " 'type': 'track',\n",
       " 'uri': 'spotify:track:0gvReE84ESnWAaUWQvJGYL'}"
      ]
     },
     "execution_count": 193,
     "metadata": {},
     "output_type": "execute_result"
    }
   ],
   "source": [
    "tracks[0]\n"
   ]
  },
  {
   "cell_type": "code",
   "execution_count": 194,
   "id": "2de25ab2",
   "metadata": {},
   "outputs": [],
   "source": [
    "track_selection_list = []\n",
    "track_art = []\n",
    "\n",
    "for song in tracks:\n",
    "    track_selection_list.append(song['uri'])\n",
    "    track_art.append(song['album']['images'][0]['url'])"
   ]
  },
  {
   "cell_type": "code",
   "execution_count": 195,
   "id": "ec187f96",
   "metadata": {},
   "outputs": [
    {
     "name": "stdout",
     "output_type": "stream",
     "text": [
      "{'snapshot_id': 'Myw1Y2I1MzhmZGQ1YTRjNTM5MjcxMzAyZTkzMzBkYjViYmZjMGYyNjM0'}\n"
     ]
    }
   ],
   "source": [
    "my_playlist = sp.user_playlist_create(user=username, name=shortRate, public=True,\n",
    "                                      description=\"Songs for the rate\")\n",
    "results = sp.user_playlist_add_tracks(username, my_playlist['id'], track_selection_list)\n",
    "print(results)"
   ]
  },
  {
   "cell_type": "code",
   "execution_count": 196,
   "id": "eaa54ecc",
   "metadata": {},
   "outputs": [
    {
     "name": "stdout",
     "output_type": "stream",
     "text": [
      "{'collaborative': False, 'description': 'Songs for the rate', 'external_urls': {'spotify': 'https://open.spotify.com/playlist/0Xub3Mp8Gaq7XZkyodUswC'}, 'followers': {'href': None, 'total': 0}, 'href': 'https://api.spotify.com/v1/playlists/0Xub3Mp8Gaq7XZkyodUswC', 'id': '0Xub3Mp8Gaq7XZkyodUswC', 'images': [], 'name': '14,113', 'owner': {'display_name': 'Shan', 'external_urls': {'spotify': 'https://open.spotify.com/user/31vt4ykbt57xxgnoqlpgum5dbu34'}, 'href': 'https://api.spotify.com/v1/users/31vt4ykbt57xxgnoqlpgum5dbu34', 'id': '31vt4ykbt57xxgnoqlpgum5dbu34', 'type': 'user', 'uri': 'spotify:user:31vt4ykbt57xxgnoqlpgum5dbu34'}, 'primary_color': None, 'public': True, 'snapshot_id': 'MSxmNmZkNjQ0ZDA1ZThkZGI2NWI3NTVlZWY0ZWY1OTRhZjgzMTU5OGRk', 'tracks': {'href': 'https://api.spotify.com/v1/playlists/0Xub3Mp8Gaq7XZkyodUswC/tracks', 'items': [], 'limit': 100, 'next': None, 'offset': 0, 'previous': None, 'total': 0}, 'type': 'playlist', 'uri': 'spotify:playlist:0Xub3Mp8Gaq7XZkyodUswC'}\n"
     ]
    }
   ],
   "source": [
    "print(my_playlist)"
   ]
  },
  {
   "cell_type": "code",
   "execution_count": 197,
   "id": "9f7e25af",
   "metadata": {},
   "outputs": [
    {
     "data": {
      "text/plain": [
       "True"
      ]
     },
     "execution_count": 197,
     "metadata": {},
     "output_type": "execute_result"
    }
   ],
   "source": [
    "# sp.start_playback(deviceID, None, track_selection_list)\n",
    "webbrowser.open(my_playlist['external_urls']['spotify'])"
   ]
  },
  {
   "cell_type": "code",
   "execution_count": null,
   "id": "5075c80f",
   "metadata": {},
   "outputs": [],
   "source": []
  }
 ],
 "metadata": {
  "kernelspec": {
   "display_name": "Python 3 (ipykernel)",
   "language": "python",
   "name": "python3"
  },
  "language_info": {
   "codemirror_mode": {
    "name": "ipython",
    "version": 3
   },
   "file_extension": ".py",
   "mimetype": "text/x-python",
   "name": "python",
   "nbconvert_exporter": "python",
   "pygments_lexer": "ipython3",
   "version": "3.11.0"
  }
 },
 "nbformat": 4,
 "nbformat_minor": 5
}
